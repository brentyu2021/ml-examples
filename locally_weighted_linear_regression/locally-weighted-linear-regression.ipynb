{
 "cells": [
  {
   "cell_type": "markdown",
   "source": [
    "## Locally Weighted Linear Regression (LWR)"
   ],
   "metadata": {
    "collapsed": false
   }
  },
  {
   "cell_type": "markdown",
   "source": [
    "Example of locally weighted linear regression. Please check [my blog](http://yueyublog.com/posts/locally-weighted-regression)\n",
    "or [this assignment](https://github.com/genkiyui/cs229-solutions-fall2018/blob/main/problem_set_1/PS1-5%20Locally%20weighted%20linear%20regression.ipynb)\n",
    "for details."
   ],
   "metadata": {
    "collapsed": false
   }
  },
  {
   "cell_type": "code",
   "execution_count": null,
   "outputs": [],
   "source": [
    "import math\n",
    "\n",
    "import matplotlib.pyplot as plt\n",
    "import numpy as np\n",
    "\n",
    "from sklearn.preprocessing import PolynomialFeatures"
   ],
   "metadata": {
    "collapsed": false,
    "pycharm": {
     "name": "#%% code\n"
    }
   }
  },
  {
   "cell_type": "markdown",
   "source": [
    "Load the training set. This data is from the assignment 1 (fall 2018) of [CS229](http://cs229.stanford.edu/)."
   ],
   "metadata": {
    "collapsed": false
   }
  },
  {
   "cell_type": "code",
   "execution_count": null,
   "outputs": [],
   "source": [
    "D_train = np.loadtxt('data/train.csv', delimiter=',', skiprows=1)\n",
    "D_test = np.loadtxt('data/valid.csv', delimiter=',', skiprows=1)\n",
    "\n",
    "X_train, y_train = D_train[:, 0], D_train[:, 1]\n",
    "X_train = PolynomialFeatures(degree=1).fit_transform(X_train.reshape((-1, 1)))\n",
    "\n",
    "X_valid, y_valid = D_test[:, 0], D_test[:, 1]\n",
    "X_valid = PolynomialFeatures(degree=1).fit_transform(X_valid.reshape((-1, 1)))\n",
    "\n",
    "plt.plot(X_train[:, 1:], y_train, 'bx')"
   ],
   "metadata": {
    "collapsed": false,
    "pycharm": {
     "name": "#%% code\n"
    }
   }
  },
  {
   "cell_type": "code",
   "execution_count": null,
   "outputs": [],
   "source": [
    "class LocallyWeightedLinearRegression:\n",
    "\n",
    "    def __init__(self, tau):\n",
    "        self.tau = tau\n",
    "        self.X = None\n",
    "        self.y = None\n",
    "\n",
    "    def fit(self, X, y):\n",
    "        self.X = X\n",
    "        self.y = y\n",
    "\n",
    "    def predict(self, X):\n",
    "        L, M = X.shape\n",
    "\n",
    "        # Reshape the input X by adding an additional dimension for broadcast\n",
    "        H = np.exp(- np.linalg.norm(self.X - np.reshape(X, (L, -1, M)), ord=2, axis=2)**2 / (2 * self.tau**2))\n",
    "\n",
    "        # Turn the weights into diagonal matrices, each corresponds to a single input. Shape (L, N, N)\n",
    "        H = np.apply_along_axis(np.diag, axis=1, arr=H)\n",
    "\n",
    "        # Compute W for each input x_n. Shape (L, M)\n",
    "        W = np.linalg.inv(self.X.T @ H @ self.X) @ self.X.T @ H @ self.y\n",
    "\n",
    "        return np.einsum('ij,ij->i', X, W)"
   ],
   "metadata": {
    "collapsed": false,
    "pycharm": {
     "name": "#%% code\n"
    }
   }
  },
  {
   "cell_type": "markdown",
   "source": [
    "We need to tune the bandwidth parameter $\\tau$ using the validation set."
   ],
   "metadata": {
    "collapsed": false
   }
  },
  {
   "cell_type": "code",
   "execution_count": null,
   "outputs": [],
   "source": [
    "# Some candidates for tau\n",
    "taus = [1e-2, 5e-2, 8e-2, 1e-1, 5e-1, 1e0, 1e1]\n",
    "\n",
    "lowest_mse = math.inf\n",
    "best_tau = taus[0]\n",
    "\n",
    "for tau in taus:\n",
    "    clf = LocallyWeightedLinearRegression(tau)\n",
    "    clf.fit(X_train, y_train)\n",
    "    y_valid_pred = clf.predict(X_valid)\n",
    "\n",
    "    mse = np.mean((y_valid_pred - y_valid)**2)\n",
    "    if mse < lowest_mse:\n",
    "        lowest_mse = mse\n",
    "        best_tau = tau\n",
    "\n",
    "    plt.figure()\n",
    "    plt.plot(X_valid[:, 1], y_valid, 'bx')\n",
    "    plt.plot(X_valid[:, 1], y_valid_pred, 'ro')\n",
    "    plt.suptitle(f'Validation Set (Tau = {tau}, MSE = {mse})')"
   ],
   "metadata": {
    "collapsed": false,
    "pycharm": {
     "name": "#%% code\n"
    }
   }
  },
  {
   "cell_type": "markdown",
   "source": [
    "We can see that $\\tau = 0.05$ gives the lowest MSE on validation set."
   ],
   "metadata": {
    "collapsed": false
   }
  }
 ],
 "metadata": {
  "kernelspec": {
   "display_name": "Python 3",
   "language": "python",
   "name": "python3"
  },
  "language_info": {
   "codemirror_mode": {
    "name": "ipython",
    "version": 2
   },
   "file_extension": ".py",
   "mimetype": "text/x-python",
   "name": "python",
   "nbconvert_exporter": "python",
   "pygments_lexer": "ipython2",
   "version": "2.7.6"
  }
 },
 "nbformat": 4,
 "nbformat_minor": 0
}