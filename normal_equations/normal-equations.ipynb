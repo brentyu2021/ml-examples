{
 "cells": [
  {
   "cell_type": "markdown",
   "source": [
    "## Normal Equations"
   ],
   "metadata": {
    "collapsed": false
   }
  },
  {
   "cell_type": "markdown",
   "source": [
    "Simple code example for linear regression using the *Normal Equations*."
   ],
   "metadata": {
    "collapsed": false
   }
  },
  {
   "cell_type": "code",
   "execution_count": 1,
   "outputs": [],
   "source": [
    "import matplotlib.pyplot as plt\n",
    "import numpy as np\n",
    "\n",
    "%matplotlib inline"
   ],
   "metadata": {
    "collapsed": false,
    "pycharm": {
     "name": "#%% code\n"
    }
   }
  },
  {
   "cell_type": "markdown",
   "source": [
    "Firstly, let's define some utility functions."
   ],
   "metadata": {
    "collapsed": false
   }
  },
  {
   "cell_type": "code",
   "execution_count": 2,
   "outputs": [],
   "source": [
    "def load_dataset_with_intercept(csv_path):\n",
    "    \"\"\"\n",
    "    Loads dataset from csv file, and adds x_0 = 1 to each feature input.\n",
    "\n",
    "    :param csv_path: The csv file path.\n",
    "    :return:         The feature inputs and the corresponding target values.\n",
    "    \"\"\"\n",
    "    D = np.loadtxt(csv_path, delimiter=',', skiprows=1)\n",
    "    X, y = D[:, 1:], D[:, 0]\n",
    "    new_X = np.zeros((X.shape[0], X.shape[1]+1), dtype=X.dtype)\n",
    "    new_X[:, 0] = 1\n",
    "    new_X[:, 1:] = X\n",
    "    return new_X, y\n",
    "\n",
    "\n",
    "def plot_func(X, y, w):\n",
    "    # Just making the plot look nicer\n",
    "    X_1 = X[:, 1]\n",
    "    x_min = np.min(X_1)\n",
    "    x_max = np.max(X_1)\n",
    "    offset = (x_max - x_min) / X_1.shape[0]\n",
    "    xs = np.linspace(x_min-offset, x_max+offset, 100)\n",
    "\n",
    "    # Computes the corresponding target values\n",
    "    intercepts = np.ones_like(xs)\n",
    "    Xs = np.stack((intercepts, xs), axis=-1)\n",
    "    ys = Xs @ w\n",
    "\n",
    "    # Plots the figure\n",
    "    plt.figure()\n",
    "    plt.plot(X_1, y, 'go')\n",
    "    plt.plot(Xs[:, 1:], ys, 'r')"
   ],
   "metadata": {
    "collapsed": false,
    "pycharm": {
     "name": "#%% code\n"
    }
   }
  },
  {
   "cell_type": "markdown",
   "source": [
    "Load and plot the dataset."
   ],
   "metadata": {
    "collapsed": false
   }
  },
  {
   "cell_type": "code",
   "execution_count": 3,
   "outputs": [
    {
     "data": {
      "text/plain": "[<matplotlib.lines.Line2D at 0x26eec8cfc70>]"
     },
     "execution_count": 3,
     "metadata": {},
     "output_type": "execute_result"
    },
    {
     "data": {
      "text/plain": "<Figure size 432x288 with 1 Axes>",
      "image/png": "[encoded data removed]"
     },
     "metadata": {
      "needs_background": "light"
     },
     "output_type": "display_data"
    }
   ],
   "source": [
    "X_train, y_train = load_dataset_with_intercept('data/train.csv')\n",
    "\n",
    "plt.plot(X_train[:, 1:], y_train, 'go')"
   ],
   "metadata": {
    "collapsed": false,
    "pycharm": {
     "name": "#%% code\n"
    }
   }
  },
  {
   "cell_type": "markdown",
   "source": [
    "### 1. $\\boldsymbol{\\mathrm{X}}^{\\mathrm{T}} \\boldsymbol{\\mathrm{X}}$ Is Invertible"
   ],
   "metadata": {
    "collapsed": false
   }
  },
  {
   "cell_type": "markdown",
   "source": [
    "Suppose we want to fit a straight line to the dataset using the normal equations\n",
    "\n",
    "\\begin{equation*}\n",
    "    \\boldsymbol{\\mathrm{w}}^* = (\\boldsymbol{\\mathrm{X}}^{\\mathrm{T}} \\boldsymbol{\\mathrm{X}})^{-1} \\boldsymbol{\\mathrm{X}}^{\\mathrm{T}} \\boldsymbol{\\mathrm{y}} .\n",
    "\\end{equation*}"
   ],
   "metadata": {
    "collapsed": false
   }
  },
  {
   "cell_type": "code",
   "execution_count": 4,
   "outputs": [],
   "source": [
    "def fit(X, y):\n",
    "    return np.linalg.inv(X.T @ X) @ X.T @ y"
   ],
   "metadata": {
    "collapsed": false,
    "pycharm": {
     "name": "#%% code\n"
    }
   }
  },
  {
   "cell_type": "markdown",
   "source": [
    "Compute the optimal parameters and plot the function."
   ],
   "metadata": {
    "collapsed": false
   }
  },
  {
   "cell_type": "code",
   "execution_count": 5,
   "outputs": [
    {
     "data": {
      "text/plain": "<Figure size 432x288 with 1 Axes>",
      "image/png": "[encoded data removed]"
     },
     "metadata": {
      "needs_background": "light"
     },
     "output_type": "display_data"
    }
   ],
   "source": [
    "w_star = fit(X_train, y_train)\n",
    "\n",
    "plot_func(X_train, y_train, w_star)"
   ],
   "metadata": {
    "collapsed": false,
    "pycharm": {
     "name": "#%% code\n"
    }
   }
  },
  {
   "cell_type": "markdown",
   "source": [
    "We can see that the model fits the data quite well.\n",
    "\n",
    "### 2. $\\boldsymbol{\\mathrm{X}}^{\\mathrm{T}} \\boldsymbol{\\mathrm{X}}$ Is Non-Invertible"
   ],
   "metadata": {
    "collapsed": false
   }
  },
  {
   "cell_type": "markdown",
   "source": [
    "In this case, we can adopt the pseudoinverse of $\\boldsymbol{\\mathrm{X}}$ and obtain the optimal parameters by\n",
    "\n",
    "\\begin{equation*}\n",
    "    \\boldsymbol{\\mathrm{w}}^* = \\boldsymbol{\\mathrm{X}}^{\\dagger} \\boldsymbol{\\mathrm{y}} .\n",
    "\\end{equation*}"
   ],
   "metadata": {
    "collapsed": false
   }
  },
  {
   "cell_type": "code",
   "execution_count": 6,
   "outputs": [],
   "source": [
    "def fit_with_pesudoinverse(X, y):\n",
    "    \"\"\"\n",
    "    Finds the optimal parameters using pseudoinverse.\n",
    "\n",
    "    :param X: The design matrix with 1's in the 0-th column.\n",
    "    :param y: The target values.\n",
    "    :return:  The optimal parameters.\n",
    "    \"\"\"\n",
    "    # SVD of X\n",
    "    U, Sigma, VT = np.linalg.svd(X)\n",
    "\n",
    "    d = Sigma.shape[0]\n",
    "    Sigma_inv = np.zeros_like(X.T)\n",
    "    Sigma_inv[:d, :d] = np.diag(1/Sigma)\n",
    "\n",
    "    # Pseudoinverse of X\n",
    "    pinv = VT.T @ Sigma_inv @ U.T\n",
    "\n",
    "    return pinv @ y"
   ],
   "metadata": {
    "collapsed": false,
    "pycharm": {
     "name": "#%% code\n"
    }
   }
  },
  {
   "cell_type": "markdown",
   "source": [
    "Compute the optimal parameters using the pseudoinverse and plot the function."
   ],
   "metadata": {
    "collapsed": false
   }
  },
  {
   "cell_type": "code",
   "execution_count": 7,
   "outputs": [
    {
     "data": {
      "text/plain": "<Figure size 432x288 with 1 Axes>",
      "image/png": "[encoded data removed]"
     },
     "metadata": {
      "needs_background": "light"
     },
     "output_type": "display_data"
    }
   ],
   "source": [
    "w_star = fit_with_pesudoinverse(X_train, y_train)\n",
    "\n",
    "plot_func(X_train, y_train, w_star)"
   ],
   "metadata": {
    "collapsed": false,
    "pycharm": {
     "name": "#%% code\n"
    }
   }
  },
  {
   "cell_type": "markdown",
   "source": [
    "This approach gives the same result as previous in this case."
   ],
   "metadata": {
    "collapsed": false
   }
  }
 ],
 "metadata": {
  "kernelspec": {
   "name": "python3",
   "language": "python",
   "display_name": "Python 3"
  },
  "language_info": {
   "codemirror_mode": {
    "name": "ipython",
    "version": 2
   },
   "file_extension": ".py",
   "mimetype": "text/x-python",
   "name": "python",
   "nbconvert_exporter": "python",
   "pygments_lexer": "ipython2",
   "version": "2.7.6"
  }
 },
 "nbformat": 4,
 "nbformat_minor": 0
}