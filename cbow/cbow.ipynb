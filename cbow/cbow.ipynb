{
 "cells": [
  {
   "cell_type": "markdown",
   "source": [
    "## Continuous Bag of Words (CBOW)"
   ],
   "metadata": {
    "collapsed": false
   }
  },
  {
   "cell_type": "markdown",
   "source": [
    "Basic implementation of CBOW. Please check [my blog](http://yueyublog.com/posts/continuous-bag-of-words) for details."
   ],
   "metadata": {
    "collapsed": false
   }
  },
  {
   "cell_type": "code",
   "execution_count": 1,
   "outputs": [],
   "source": [
    "import math\n",
    "\n",
    "import matplotlib.pyplot as plt\n",
    "import nltk\n",
    "import numpy as np\n",
    "import re\n",
    "\n",
    "from collections import Counter\n",
    "from sklearn.decomposition import PCA\n",
    "\n",
    "%matplotlib inline"
   ],
   "metadata": {
    "collapsed": false,
    "pycharm": {
     "name": "#%% code\n"
    }
   }
  },
  {
   "cell_type": "markdown",
   "source": [
    "Load, clean and tokenize the data. Here we use *The Count of Monte Cristo* as the corpus."
   ],
   "metadata": {
    "collapsed": false
   }
  },
  {
   "cell_type": "code",
   "execution_count": 2,
   "outputs": [],
   "source": [
    "with open('data/the_count_of_monte_cristo.txt') as f:\n",
    "    texts = f.read()\n",
    "\n",
    "texts = re.sub(r'[,!?;-]', '.', texts)\n",
    "words = nltk.word_tokenize(texts)\n",
    "words = [word.lower() for word in words if word.isalpha() or word == '.']"
   ],
   "metadata": {
    "collapsed": false,
    "pycharm": {
     "name": "#%% code\n"
    }
   }
  },
  {
   "cell_type": "code",
   "execution_count": 3,
   "outputs": [],
   "source": [
    "def get_dict(words):\n",
    "    \"\"\"\n",
    "    Converts the given words into a dictionary that maps each word to its index.\n",
    "\n",
    "    :param words: a list of tokenized words\n",
    "    :return:      a dictionary mapping each word to its index, containing |V| items\n",
    "    \"\"\"\n",
    "    word2Index = {}\n",
    "    index = 0\n",
    "    for word in sorted(list(set(words))):\n",
    "        word2Index[word] = index\n",
    "        index += 1\n",
    "    return word2Index"
   ],
   "metadata": {
    "collapsed": false,
    "pycharm": {
     "name": "#%% code\n"
    }
   }
  },
  {
   "cell_type": "markdown",
   "source": [
    "Functions for generating batches."
   ],
   "metadata": {
    "collapsed": false
   }
  },
  {
   "cell_type": "code",
   "execution_count": 4,
   "outputs": [],
   "source": [
    "def get_context_word_index_with_count(context_words, word2Index):\n",
    "    \"\"\"\n",
    "    Gets the index of each context word and its number of occurrences.\n",
    "\n",
    "    :param context_words: a list of tokenized context words\n",
    "    :param word2Index:    a dictionary mapping each word to its index in the vocabulary list\n",
    "    :return:              pairs of word index and its number of occurrences\n",
    "    \"\"\"\n",
    "    count_dict = Counter(context_words)\n",
    "    return [(word2Index[word], count_dict[word]) for word in context_words]\n",
    "\n",
    "\n",
    "def get_context_and_center_word_vectors(words, word2Index, V, C):\n",
    "    \"\"\"\n",
    "    Slides the word window to generate pairs of vectors for the context words and center word.\n",
    "\n",
    "    :param words:      a list of tokenized words\n",
    "    :param word2Index: a dictionary mapping each word to its index in the vocabulary list\n",
    "    :param V:          the size of the vocabulary\n",
    "    :param C:          half size of the word window\n",
    "    :return:           pairs of context word vector and center word vector\n",
    "    \"\"\"\n",
    "    j = C\n",
    "    context_size = 2 * C\n",
    "    while True:\n",
    "        context_word = np.zeros(V)\n",
    "        center_word = np.zeros(V)\n",
    "        center_word[word2Index[words[j]]] = 1\n",
    "        context_words = words[(j-C):j] + words[(j+1):(j+C+1)]\n",
    "        for i, count in get_context_word_index_with_count(context_words, word2Index):\n",
    "            context_word[i] = count / context_size\n",
    "        yield context_word, center_word\n",
    "\n",
    "        # Reset the word window\n",
    "        if j >= len(words):\n",
    "            j = 0\n",
    "\n",
    "\n",
    "def get_batches(words, word2Index, V, C, batch_size):\n",
    "    \"\"\"\n",
    "    Generates batches of context words and center words. Each batch is a pair of two matrices.\n",
    "\n",
    "    :param words:      a list of tokenized words\n",
    "    :param word2Index: a dictionary mapping each word to its index in the vocabulary list\n",
    "    :param V:          size of the vocabulary\n",
    "    :param C:          half size of the word window\n",
    "    :param batch_size: the number of word vectors in each batch, typically 2^n\n",
    "    :return:           pairs of matrices representing the context words and center words respectively. Shape (V, batch_size)\n",
    "    \"\"\"\n",
    "    context_word_batch = []\n",
    "    center_word_batch = []\n",
    "    for context_word, center_word in get_context_and_center_word_vectors(words, word2Index, V, C):\n",
    "        while len(context_word_batch) < batch_size:\n",
    "            context_word_batch.append(context_word)\n",
    "            center_word_batch.append(center_word)\n",
    "        else:\n",
    "            yield np.array(context_word_batch).T, np.array(center_word_batch).T"
   ],
   "metadata": {
    "collapsed": false,
    "pycharm": {
     "name": "#%% code\n"
    }
   }
  },
  {
   "cell_type": "code",
   "execution_count": 5,
   "outputs": [],
   "source": [
    "def softmax(z):\n",
    "    return np.exp(z) / np.sum(np.exp(z), axis=0)"
   ],
   "metadata": {
    "collapsed": false,
    "pycharm": {
     "name": "#%% code\n"
    }
   }
  },
  {
   "cell_type": "markdown",
   "source": [
    "Noticing that $\\boldsymbol{\\mathrm{y}}$ is one hot vector, we only need to consider the bit where the correct word's one\n",
    "hot vector is $1$."
   ],
   "metadata": {
    "collapsed": false
   }
  },
  {
   "cell_type": "code",
   "execution_count": 6,
   "outputs": [],
   "source": [
    "def compute_cost(Y, Y_hat, batch_size):\n",
    "    return -1 / batch_size * np.sum(np.log(Y_hat[Y == 1]))"
   ],
   "metadata": {
    "collapsed": false,
    "pycharm": {
     "name": "#%% code\n"
    }
   }
  },
  {
   "cell_type": "code",
   "execution_count": 7,
   "outputs": [],
   "source": [
    "def initialize_params_he(N, V):\n",
    "    \"\"\"\n",
    "    He initialization.\n",
    "    \"\"\"\n",
    "    scaler1 = np.sqrt(2./V)\n",
    "    scaler2 = np.sqrt(2./N)\n",
    "    W1 = np.random.randn(N, V) * scaler1\n",
    "    W2 = np.random.randn(V, N) * scaler2\n",
    "    b1 = np.zeros((N, 1)) * scaler1\n",
    "    b2 = np.zeros((V, 1)) * scaler2\n",
    "    return W1, W2, b1, b2\n",
    "\n",
    "\n",
    "def forward_prop(X, W1, W2, b1, b2):\n",
    "    \"\"\"\n",
    "    Computes the hidden layer and score.\n",
    "\n",
    "    :param X:              the averaged vector for the context words. Shape (|V|, batch_size)\n",
    "    :param W1, W2, b1, b2: parameters to learn\n",
    "    :return:               Z: score matrix. Shape (|V|, batch_size)\n",
    "                           H: hidden layer matrix. Shape (N, batch_size)\n",
    "    \"\"\"\n",
    "    H = W1 @ X + b1\n",
    "    H[H < 0] = 0\n",
    "    Z = W2 @ H + b2\n",
    "    return Z, H\n",
    "\n",
    "\n",
    "def back_prop(X, Y_hat, Y, H, W2):\n",
    "    \"\"\"\n",
    "    Computes the gradients with respect to W1, W2, b1 and b2.\n",
    "\n",
    "    :param X:     batch of average vectors for the context words. Shape (|V|, batch_size)\n",
    "    :param Y_hat: the predicted distribution vectors. Shape (|V|, batch_size)\n",
    "    :param Y:     one hot vectors representing the true values. Shape (|V|, batch_size)\n",
    "    :param H:     batch of vectors for the hidden layer. Shape (N, batch_size)\n",
    "    :param W2:    the output word matrix. Shape (|V|, N)\n",
    "    :return:      grad_W1, grad_W2, grad_b1, grad_b2\n",
    "    \"\"\"\n",
    "    _, batch_size = X.shape\n",
    "\n",
    "    # Compute the gradient of J_batch with respect to H\n",
    "    delta1 = W2.T @ (Y_hat - Y)\n",
    "    delta1[delta1 < 0] = 0\n",
    "\n",
    "    # Compute the gradients\n",
    "    grad_W1 = 1 / batch_size * delta1 @ X.T\n",
    "    grad_W2 = 1 / batch_size * (Y_hat - Y) @ H.T\n",
    "    grad_b1 = 1 / batch_size * np.sum(delta1, axis=1, keepdims=True)\n",
    "    grad_b2 = 1 / batch_size * np.sum(Y_hat - Y, axis=1, keepdims=True)\n",
    "\n",
    "    return grad_W1, grad_W2, grad_b1, grad_b2\n",
    "\n",
    "\n",
    "def fit(words, word2Index, N, V, C, batch_size=128, alpha=0.1, eps=1e-4, max_iters=5000):\n",
    "    \"\"\"\n",
    "    Computes the parameters using gradient descent.\n",
    "\n",
    "    :param words:      the source words\n",
    "    :param word2Index: a dictionary mapping each word to its unique index\n",
    "    :param N:          the dimension of embedded word\n",
    "    :param V:          the size of the vocabulary\n",
    "    :param C:          half size of the word window\n",
    "    :param batch_size: better set to 2^n\n",
    "    :param alpha:      the learning rate\n",
    "    :param eps:        the convergence criteria\n",
    "    :param max_iters:  the maximum number of iterations allowed\n",
    "    :return:           W1, W2, b1, b2 and a record of the cost and number of iterations\n",
    "    \"\"\"\n",
    "    W1, W2, b1, b2 = initialize_params_he(N, V)\n",
    "\n",
    "    iters = 0\n",
    "    prev_cost = math.inf\n",
    "    iterations = []\n",
    "    costs = []\n",
    "\n",
    "    for X, Y in get_batches(words, word2Index, V, C, batch_size):\n",
    "        Z, H = forward_prop(X, W1, W2, b1, b2)\n",
    "        Y_hat = softmax(Z)\n",
    "\n",
    "        this_cost = compute_cost(Y, Y_hat, batch_size)\n",
    "\n",
    "        # Check convergence\n",
    "        if iters == max_iters or prev_cost - this_cost < eps:\n",
    "            break\n",
    "\n",
    "        # Track the cost in terms of the number of iterations\n",
    "        if (iters + 1) % 10 == 0:\n",
    "            iterations.append(iters)\n",
    "            costs.append(this_cost)\n",
    "\n",
    "        prev_cost = this_cost\n",
    "\n",
    "        # Compute the gradients and update parameters\n",
    "        grad_W1, grad_W2, grad_b1, grad_b2 = back_prop(X, Y_hat, Y, H, W2)\n",
    "\n",
    "        W1 = W1 - alpha * grad_W1\n",
    "        W2 = W2 - alpha * grad_W2\n",
    "        b1 = b1 - alpha * grad_b1\n",
    "        b2 = b2 - alpha * grad_b2\n",
    "\n",
    "        iters += 1\n",
    "\n",
    "    return W1, W2, b1, b2, iterations, costs"
   ],
   "metadata": {
    "collapsed": false,
    "pycharm": {
     "name": "#%% code\n"
    }
   }
  },
  {
   "cell_type": "markdown",
   "source": [
    "Fit the model."
   ],
   "metadata": {
    "collapsed": false
   }
  },
  {
   "cell_type": "code",
   "execution_count": 8,
   "outputs": [],
   "source": [
    "C = 5\n",
    "N = 80\n",
    "word2Index = get_dict(words)\n",
    "W1, W2, b1, b2, iterations, costs = fit(words, word2Index, N, len(word2Index), C=2)"
   ],
   "metadata": {
    "collapsed": false,
    "pycharm": {
     "name": "#%% code\n"
    }
   }
  },
  {
   "cell_type": "markdown",
   "source": [
    "Plot the cost function."
   ],
   "metadata": {
    "collapsed": false
   }
  },
  {
   "cell_type": "code",
   "execution_count": 9,
   "outputs": [
    {
     "data": {
      "text/plain": "<Figure size 432x288 with 1 Axes>",
      "image/png": "[encoded data removed]"
     },
     "metadata": {
      "needs_background": "light"
     },
     "output_type": "display_data"
    }
   ],
   "source": [
    "plt.figure()\n",
    "plt.plot(iterations, costs, 'b')\n",
    "plt.xlabel('number of iterations')\n",
    "plt.ylabel('cost')\n",
    "plt.show()"
   ],
   "metadata": {
    "collapsed": false,
    "pycharm": {
     "name": "#%% code\n"
    }
   }
  },
  {
   "cell_type": "markdown",
   "source": [
    "Finally, let's take a look at the word vectors in 2d."
   ],
   "metadata": {
    "collapsed": false
   }
  },
  {
   "cell_type": "code",
   "execution_count": 17,
   "outputs": [
    {
     "data": {
      "text/plain": "<Figure size 432x288 with 1 Axes>",
      "image/png": "[encoded data removed]"
     },
     "metadata": {
      "needs_background": "light"
     },
     "output_type": "display_data"
    }
   ],
   "source": [
    "# Get word embeddings\n",
    "word_embeddings = (W1.T + W2) / 2.0\n",
    "test_words = ['dantes', 'danglars', 'mercedes', 'albert', 'fernand', 'king', 'fork']\n",
    "test_indices = [word2Index[word] for word in test_words]\n",
    "X_test = word_embeddings[test_indices, :]\n",
    "\n",
    "# Perform PCA\n",
    "pca = PCA(n_components=2)\n",
    "result = pca.fit_transform(X_test)\n",
    "\n",
    "# Scatter plot\n",
    "plt.scatter(result[:, 0], result[:, 1])\n",
    "for i, word in enumerate(test_words):\n",
    "    plt.annotate(word, xy=(result[i, 0], result[i, 1]))\n",
    "plt.show()"
   ],
   "metadata": {
    "collapsed": false,
    "pycharm": {
     "name": "#%% code\n"
    }
   }
  },
  {
   "cell_type": "markdown",
   "source": [
    "We can see that Dantes, Mercedes and Fernand are grouped together. In addition, Danglars and Albert are close. These\n",
    "look pretty reasonable, even though the two groups are far from each other. However, because PCA depends on the\n",
    "particular projection, maybe they are more related in some other dimensions."
   ],
   "metadata": {
    "collapsed": false,
    "pycharm": {
     "name": "#%% md\n"
    }
   }
  }
 ],
 "metadata": {
  "kernelspec": {
   "display_name": "Python 3",
   "language": "python",
   "name": "python3"
  },
  "language_info": {
   "codemirror_mode": {
    "name": "ipython",
    "version": 2
   },
   "file_extension": ".py",
   "mimetype": "text/x-python",
   "name": "python",
   "nbconvert_exporter": "python",
   "pygments_lexer": "ipython2",
   "version": "2.7.6"
  }
 },
 "nbformat": 4,
 "nbformat_minor": 0
}